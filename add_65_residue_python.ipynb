{
 "cells": [
  {
   "cell_type": "code",
   "execution_count": 1,
   "id": "225fe7c5",
   "metadata": {},
   "outputs": [],
   "source": [
    "import re"
   ]
  },
  {
   "cell_type": "code",
   "execution_count": 2,
   "id": "36625ccc",
   "metadata": {},
   "outputs": [
    {
     "name": "stdout",
     "output_type": "stream",
     "text": [
      "[214, 150, 219, 215, 98, 159, 77, 91, 110, 100, 110, 80, 153, 147, 78, 158, 153, 187, 161, 166, 111, 80, 258, 161, 172, 227, 105, 199, 199, 182, 146, 143]\n"
     ]
    }
   ],
   "source": [
    "aa = re.findall(r'\\d+', \"L214 F150 F219 T215 F98 K159 A77 H91B Y110B F100B Y110B S80B S153 G147 G78B E158 S153B F187 F161B V166 G111B S80 E258B F161 R172B N227 I105 E199B E199 A182B L146B G143B\")\n",
    "bb = [eval (i) for i in aa]\n",
    "print (bb)"
   ]
  },
  {
   "cell_type": "code",
   "execution_count": 3,
   "id": "74546856",
   "metadata": {
    "scrolled": true
   },
   "outputs": [
    {
     "name": "stdout",
     "output_type": "stream",
     "text": [
      "[279, 215, 284, 280, 163, 224, 142, 156, 175, 165, 175, 145, 218, 212, 143, 223, 218, 252, 226, 231, 176, 145, 323, 226, 237, 292, 170, 264, 264, 247, 211, 208]\n"
     ]
    }
   ],
   "source": [
    "cc = [x+65 for x in bb]\n",
    "print (cc)"
   ]
  },
  {
   "cell_type": "code",
   "execution_count": null,
   "id": "2254fda8",
   "metadata": {},
   "outputs": [],
   "source": []
  }
 ],
 "metadata": {
  "kernelspec": {
   "display_name": "Python 3 (ipykernel)",
   "language": "python",
   "name": "python3"
  },
  "language_info": {
   "codemirror_mode": {
    "name": "ipython",
    "version": 3
   },
   "file_extension": ".py",
   "mimetype": "text/x-python",
   "name": "python",
   "nbconvert_exporter": "python",
   "pygments_lexer": "ipython3",
   "version": "3.7.3"
  }
 },
 "nbformat": 4,
 "nbformat_minor": 5
}
