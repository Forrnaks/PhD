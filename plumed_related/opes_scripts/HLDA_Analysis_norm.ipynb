{
 "cells": [
  {
   "cell_type": "code",
   "execution_count": 40,
   "id": "4ec436e6",
   "metadata": {},
   "outputs": [],
   "source": [
    "sims_apo = \"C:/Users/fbellina/Desktop/file_gromacs/CV_script/State_1/\"\n",
    "sims_holo = \"C:/Users/fbellina/Desktop/file_gromacs/CV_script/State_2/\""
   ]
  },
  {
   "cell_type": "code",
   "execution_count": 2,
   "id": "aec0605c",
   "metadata": {
    "scrolled": true
   },
   "outputs": [
    {
     "ename": "NameError",
     "evalue": "name 'PATH' is not defined",
     "output_type": "error",
     "traceback": [
      "\u001b[1;31m---------------------------------------------------------------------------\u001b[0m",
      "\u001b[1;31mNameError\u001b[0m                                 Traceback (most recent call last)",
      "\u001b[1;32m~\\AppData\\Local\\Temp/ipykernel_1332/1242942902.py\u001b[0m in \u001b[0;36m<module>\u001b[1;34m\u001b[0m\n\u001b[1;32m----> 1\u001b[1;33m \u001b[0mprint\u001b[0m\u001b[1;33m(\u001b[0m\u001b[0mPATH\u001b[0m\u001b[1;33m)\u001b[0m\u001b[1;33m\u001b[0m\u001b[1;33m\u001b[0m\u001b[0m\n\u001b[0m",
      "\u001b[1;31mNameError\u001b[0m: name 'PATH' is not defined"
     ]
    }
   ],
   "source": [
    "print(PATH)"
   ]
  },
  {
   "cell_type": "code",
   "execution_count": 41,
   "id": "7ee7408f",
   "metadata": {},
   "outputs": [],
   "source": [
    "#emoved in version 2.1, so it is no longer available. Here's an updated version of the previous script that uses the MDAnalysis.lib.distances module instead:\n",
    "\n",
    "import numpy as np\n",
    "import MDAnalysis as mda\n",
    "from MDAnalysis.lib.distances import distance_array\n",
    "import numpy as np\n",
    "from MDAnalysis.analysis import distances"
   ]
  },
  {
   "cell_type": "code",
   "execution_count": 42,
   "id": "7440ea8b",
   "metadata": {},
   "outputs": [],
   "source": [
    "u = mda.Universe(f'{sims_holo}/md.tpr', f'{sims_holo}/state2.xtc')\n",
    "atom_pairs = [(243,751), (243,784), (243,787),(243,794),(243,800),(246,751),(246,784),(246,787),(246,794),\n",
    "(246,800)]\n",
    "atoms = [u.select_atoms(f'bynum {serial_number}') for pair in atom_pairs for serial_number in pair]\n",
    "\n",
    "dist_list = [[] for _ in range(len(atom_pairs))]\n",
    "for ts in u.trajectory:\n",
    "    for i, (atom1, atom2) in enumerate(zip(atoms[::2], atoms[1::2])):\n",
    "        distance = distances.distance_array(atom1.positions, atom2.positions)\n",
    "        dist_list[i].append(distance[0][0])"
   ]
  },
  {
   "cell_type": "code",
   "execution_count": 43,
   "id": "d86f4525",
   "metadata": {},
   "outputs": [
    {
     "name": "stdout",
     "output_type": "stream",
     "text": [
      "[0.80896302 0.81151059 0.79624116 ... 0.92578078 0.90362767 0.89742705]\n"
     ]
    }
   ],
   "source": [
    "dist_list2=np.empty([len(dist_list),len(dist_list[0])])\n",
    "#print(len(atom_pairs))\n",
    "for i in np.arange(0,len(atom_pairs)):  #np.arange goes from the element on the right of the brackets up to the member on the left -1\n",
    "    lmax=np.max(dist_list[i])\n",
    "    dist_list2[i]=dist_list[i]/lmax\n",
    "print(dist_list2[0])"
   ]
  },
  {
   "cell_type": "code",
   "execution_count": 44,
   "id": "40e101cb",
   "metadata": {},
   "outputs": [
    {
     "name": "stdout",
     "output_type": "stream",
     "text": [
      "max distance in nm, useful for plumed:\n",
      "2.110188031797431\n",
      "2.2475077015508402\n",
      "2.1731637906289847\n",
      "2.5330902970815865\n",
      "2.77578642912966\n",
      "2.0688243587570443\n",
      "2.2239089081517336\n",
      "2.129631484286744\n",
      "2.487219647977599\n"
     ]
    }
   ],
   "source": [
    "print(\"max distance in nm, useful for plumed:\")\n",
    "for i in range(0,9):\n",
    "    print(np.max(dist_list[i])/10)"
   ]
  },
  {
   "cell_type": "code",
   "execution_count": 45,
   "id": "ccf68d9c",
   "metadata": {},
   "outputs": [],
   "source": [
    "#import MDAnalysis as mda\n",
    "#from MDAnalysis.analysis import distances\n",
    "#import numpy as np\n",
    "\n",
    "# Load the universe and select the atoms by their serial number\n",
    "#u = mda.Universe(f'{sims_holo}/md.tpr', f'{sims_holo}/state2.xtc')\n",
    "#atom_pairs = [(243,751), (243,784), (243,787),(243,794),(243,800),(246,751),(246,784),(246,787),(246,794),\n",
    "#(246,800)] # Add all 12 pairs of atom serial numbers here\n",
    "#atoms = [u.select_atoms(f'bynum {serial_number}') for pair in atom_pairs for serial_number in pair]\n",
    "\n",
    "# Calculate the distance between each pair of atoms for each frame\n",
    "#dist_list = [[] for _ in range(len(atom_pairs))]\n",
    "#for ts in u.trajectory:\n",
    "#    for i, (atom1, atom2) in enumerate(zip(atoms[::2], atoms[1::2])):\n",
    "#        distance = distances.distance_array(atom1.positions, atom2.positions)\n",
    "#        dist_list[i].append(distance[0][0])\n",
    "\n",
    "\n",
    "# Calculate the mean distance and standard deviation for each pair of atoms\n",
    "mean_distances = []\n",
    "std_distances = []\n",
    "for i, pair in enumerate(atom_pairs):\n",
    "    mean_distance = np.mean(dist_list2[i])\n",
    "    std_distance = np.std(dist_list2[i])\n",
    "    mean_distances.append(mean_distance)\n",
    "    std_distances.append(std_distance)\n",
    "    \n",
    "#save\n",
    "# Combine the mean and standard deviation values for each pair of atoms into a single array\n",
    "pair_values = np.zeros((len(mean_distances), 2))\n",
    "pair_values[:, 0] = mean_distances\n",
    "pair_values[:, 1] = std_distances\n",
    "\n",
    "# Save the pair values to a binary file using NumPy's save function\n",
    "np.save('Holo_values.npy', pair_values)\n"
   ]
  },
  {
   "cell_type": "code",
   "execution_count": 46,
   "id": "9743128d",
   "metadata": {},
   "outputs": [
    {
     "name": "stdout",
     "output_type": "stream",
     "text": [
      "[[0.83005155 0.05688485]\n",
      " [0.85119934 0.05156362]\n",
      " [0.83756913 0.05456168]\n",
      " [0.77919531 0.0745246 ]\n",
      " [0.79928608 0.06492137]\n",
      " [0.84472131 0.05277814]\n",
      " [0.85971354 0.05317734]\n",
      " [0.86363759 0.04996707]\n",
      " [0.81986752 0.06450067]\n",
      " [0.84242226 0.05539253]]\n"
     ]
    }
   ],
   "source": [
    "Holo_values = np.load('Holo_values.npy')\n",
    "print(Holo_values)"
   ]
  },
  {
   "cell_type": "code",
   "execution_count": 47,
   "id": "e8f0f1a2",
   "metadata": {},
   "outputs": [],
   "source": [
    "u = mda.Universe(f'{sims_apo}/md.tpr', f'{sims_apo}/state1.xtc')\n",
    "atom_pairs = [(243,751), (243,784), (243,787),(243,794),(243,800),(246,751),(246,784),(246,787),(246,794),\n",
    "(246,800)] # Add all 12 pairs of atom serial numbers here\n",
    "atoms = [u.select_atoms(f'bynum {serial_number}') for pair in atom_pairs for serial_number in pair]\n",
    "\n",
    "# Calculate the distance between each pair of atoms for each frame\n",
    "dist_list = [[] for _ in range(len(atom_pairs))]\n",
    "for ts in u.trajectory:\n",
    "    for i, (atom1, atom2) in enumerate(zip(atoms[::2], atoms[1::2])):\n",
    "        distance = distances.distance_array(atom1.positions, atom2.positions)\n",
    "        dist_list[i].append(distance[0][0])\n",
    "        \n",
    "dist_list2=np.empty([len(dist_list),len(dist_list[0])])\n",
    "#print(len(atom_pairs))\n",
    "for i in np.arange(0,len(atom_pairs)):  #np.arange goes from the element on the right of the brackets up to the member on the left -1\n",
    "    lmax=np.max(dist_list[i])\n",
    "    dist_list2[i]=dist_list[i]/lmax\n",
    "#print(dist_list2[0])\n",
    "\n",
    "# Calculate the mean distance and standard deviation for each pair of atoms\n",
    "mean_distances = []\n",
    "std_distances = []\n",
    "for i, pair in enumerate(atom_pairs):\n",
    "    mean_distance = np.mean(dist_list2[i])\n",
    "    std_distance = np.std(dist_list2[i])\n",
    "    mean_distances.append(mean_distance)\n",
    "    std_distances.append(std_distance)\n",
    "\n",
    "# Combine the mean and standard deviation values for each pair of atoms into a single array\n",
    "pair_values = np.zeros((len(mean_distances), 2))\n",
    "pair_values[:, 0] = mean_distances\n",
    "pair_values[:, 1] = std_distances\n",
    "\n",
    "# Save the pair values to a binary file using NumPy's save function\n",
    "np.save('Apo_values.npy', pair_values)"
   ]
  },
  {
   "cell_type": "code",
   "execution_count": 48,
   "id": "cf178e3f",
   "metadata": {},
   "outputs": [
    {
     "name": "stdout",
     "output_type": "stream",
     "text": [
      "[[0.56038019 0.05394175]\n",
      " [0.4604151  0.09868002]\n",
      " [0.51752965 0.08566271]\n",
      " [0.66776414 0.06049872]\n",
      " [0.6532369  0.0732032 ]\n",
      " [0.48639496 0.06997232]\n",
      " [0.41935725 0.13229133]\n",
      " [0.46444736 0.11444819]\n",
      " [0.61488262 0.07514033]\n",
      " [0.61627804 0.08682597]]\n"
     ]
    }
   ],
   "source": [
    "Apo_values = np.load('Apo_values.npy')\n",
    "print(Apo_values)"
   ]
  },
  {
   "cell_type": "code",
   "execution_count": 49,
   "id": "c57ff217",
   "metadata": {},
   "outputs": [
    {
     "name": "stdout",
     "output_type": "stream",
     "text": [
      "        d1         d2        d3        d4        d5         d6         d7  \\\n",
      "0 -9.73996 -11.538796 -9.601687 -3.337103 -4.244752 -11.910267 -11.609587   \n",
      "\n",
      "          d8        d9       d10  \n",
      "0 -11.477022 -5.906055 -6.687145  \n"
     ]
    }
   ],
   "source": [
    "import numpy as np\n",
    "import pandas as pd\n",
    "# Define the data\n",
    "Apo_values = np.load('Apo_values.npy')\n",
    "Holo_values = np.load('Holo_values.npy')\n",
    "\n",
    "# Calculate the HLDA scores\n",
    "hlda_scores = ((Apo_values[:, 0] - Holo_values[:, 0])) * (1 / Apo_values[:, 1] + 1 / Holo_values[:, 1])\n",
    "\n",
    "# Create a table with the results\n",
    "results = pd.DataFrame(hlda_scores.reshape(1,-1), columns=['d'+str(i+1) for i in range(10)])\n",
    "\n",
    "# Print the table\n",
    "print(results)"
   ]
  },
  {
   "cell_type": "code",
   "execution_count": null,
   "id": "2a5ab8ff",
   "metadata": {},
   "outputs": [],
   "source": []
  }
 ],
 "metadata": {
  "kernelspec": {
   "display_name": "Python 3 (ipykernel)",
   "language": "python",
   "name": "python3"
  },
  "language_info": {
   "codemirror_mode": {
    "name": "ipython",
    "version": 3
   },
   "file_extension": ".py",
   "mimetype": "text/x-python",
   "name": "python",
   "nbconvert_exporter": "python",
   "pygments_lexer": "ipython3",
   "version": "3.9.7"
  }
 },
 "nbformat": 4,
 "nbformat_minor": 5
}
