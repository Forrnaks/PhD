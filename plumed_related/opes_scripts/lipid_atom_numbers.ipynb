{
 "cells": [
  {
   "cell_type": "code",
   "execution_count": 4,
   "id": "dd6685a6",
   "metadata": {},
   "outputs": [
    {
     "name": "stdout",
     "output_type": "stream",
     "text": [
      "\n",
      "Upper leaflet atom IDs (151):\n",
      "[8976, 9080, 9236, 9288, 9392, 9496, 9600, 9704, 10016, 10068, 10120, 10172, 10276, 10328, 10380, 10484, 10588, 10744, 10796, 10848, 10900, 11108, 11264, 11316, 11368, 11472, 11524, 11732, 11992, 12148, 12200, 12252, 12356, 12408, 12460, 12668, 12720, 12824, 12876, 13032, 13084, 13136, 13240, 13344, 13500, 13604, 13760, 13812, 13864, 13916, 14280, 14332, 14436, 14540, 14592, 14696, 14748, 14956, 15060, 15216, 15268, 15320, 15372, 15580, 15684, 15840, 15892, 15996, 16048, 16152, 16256, 16412, 16516, 16828, 16880, 16984, 17192, 17244, 17296, 17348, 17400, 17452, 17504, 17712, 17764, 17816, 17868, 17972, 18024, 18076, 18284, 18596, 18700, 18752, 18804, 18856, 19012, 19064, 19116, 19376, 19428, 19532, 19584, 19688, 19740, 19844, 19948, 20052, 20104, 20208, 20364, 20416, 20520, 20572, 20676, 20832, 20884, 20936, 20988, 21092, 21248, 21300, 21404, 21456, 21508, 21664, 21768, 21872, 21924, 21976, 22028, 22080, 22132, 22184, 22236, 22288, 22340, 22392, 22444, 22496, 22548, 22652, 22964, 23640, 23692, 23744, 23796, 23848, 23900, 23952, 24108]\n",
      "\n",
      "Lower leaflet atom IDs (144):\n",
      "[8820, 8872, 8924, 9028, 9132, 9184, 9340, 9444, 9548, 9652, 9756, 9808, 9860, 9912, 9964, 10224, 10432, 10536, 10640, 10692, 10952, 11004, 11056, 11160, 11212, 11420, 11576, 11628, 11680, 11784, 11836, 11888, 11940, 12044, 12096, 12304, 12512, 12564, 12616, 12772, 12928, 12980, 13188, 13292, 13396, 13448, 13552, 13656, 13708, 13968, 14020, 14072, 14124, 14176, 14228, 14384, 14488, 14644, 14800, 14852, 14904, 15008, 15112, 15164, 15424, 15476, 15528, 15632, 15736, 15788, 15944, 16100, 16204, 16308, 16360, 16464, 16568, 16620, 16672, 16724, 16776, 16932, 17036, 17088, 17140, 17556, 17608, 17660, 17920, 18128, 18180, 18232, 18336, 18388, 18440, 18492, 18544, 18648, 18908, 18960, 19168, 19220, 19272, 19324, 19480, 19636, 19792, 19896, 20000, 20156, 20260, 20312, 20468, 20624, 20728, 20780, 21040, 21144, 21196, 21352, 21560, 21612, 21716, 21820, 22600, 22704, 22756, 22808, 22860, 22912, 23016, 23068, 23120, 23172, 23224, 23276, 23328, 23380, 23432, 23484, 23536, 23588, 24004, 24056]\n"
     ]
    }
   ],
   "source": [
    "import MDAnalysis as mda\n",
    "import numpy as np\n",
    "\n",
    "# === INPUTS ===\n",
    "pdb_file = \"em.pdb\"  # Replace with your file\n",
    "lipid_resname = \"POPC\"        # Adjust to your lipid name (e.g. DPPC, POPG)\n",
    "headgroup_atom = \"P8\"          # Atom name used to represent the lipid headgroup (e.g. P for atomistic)\n",
    "\n",
    "# === LOAD SYSTEM ===\n",
    "u = mda.Universe(pdb_file)\n",
    "\n",
    "# Select lipid headgroup atoms\n",
    "headgroups = u.select_atoms(f\"resname {lipid_resname} and name {headgroup_atom}\")\n",
    "\n",
    "# Get z-coordinates of headgroups\n",
    "z_coords = headgroups.positions[:, 2]\n",
    "z_mean = np.mean(z_coords)\n",
    "\n",
    "# Assign to upper or lower leaflet\n",
    "upper_leaflet = headgroups[z_coords > z_mean]\n",
    "lower_leaflet = headgroups[z_coords < z_mean]\n",
    "\n",
    "# === OUTPUT: Atom IDs ===\n",
    "upper_atom_ids = sorted(set(atom.id for atom in upper_leaflet))   # 1-based indexing (like GROMACS)\n",
    "lower_atom_ids = sorted(set(atom.id for atom in lower_leaflet))\n",
    "\n",
    "print(f\"\\nUpper leaflet atom IDs ({len(upper_atom_ids)}):\")\n",
    "print(upper_atom_ids)\n",
    "\n",
    "print(f\"\\nLower leaflet atom IDs ({len(lower_atom_ids)}):\")\n",
    "print(lower_atom_ids)\n",
    "\n",
    "# Save comma-separated atom IDs (no spaces)\n",
    "with open(\"upper_leaflet_atoms.txt\", \"w\") as f:\n",
    "    f.write(\",\".join(map(str, upper_atom_ids)))\n",
    "\n",
    "with open(\"lower_leaflet_atoms.txt\", \"w\") as f:\n",
    "    f.write(\",\".join(map(str, lower_atom_ids)))\n",
    "\n",
    "\n"
   ]
  },
  {
   "cell_type": "code",
   "execution_count": null,
   "id": "ef00434c",
   "metadata": {},
   "outputs": [],
   "source": []
  }
 ],
 "metadata": {
  "kernelspec": {
   "display_name": "Python 3 (ipykernel)",
   "language": "python",
   "name": "python3"
  },
  "language_info": {
   "codemirror_mode": {
    "name": "ipython",
    "version": 3
   },
   "file_extension": ".py",
   "mimetype": "text/x-python",
   "name": "python",
   "nbconvert_exporter": "python",
   "pygments_lexer": "ipython3",
   "version": "3.7.3"
  }
 },
 "nbformat": 4,
 "nbformat_minor": 5
}
