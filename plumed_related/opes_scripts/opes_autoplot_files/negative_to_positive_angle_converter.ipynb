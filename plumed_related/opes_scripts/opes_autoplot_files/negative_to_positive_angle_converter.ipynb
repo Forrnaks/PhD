{
 "cells": [
  {
   "cell_type": "code",
   "execution_count": 4,
   "id": "9acc6c2f",
   "metadata": {},
   "outputs": [
    {
     "name": "stdout",
     "output_type": "stream",
     "text": [
      "File processed and saved as colvar3\n"
     ]
    }
   ],
   "source": [
    "import numpy as np\n",
    "\n",
    "# Define the input and output file names\n",
    "input_file = 'colvar'\n",
    "output_file = 'colvar3'\n",
    "\n",
    "# Function to convert negative numbers between -2.1 and -3.1415 to positive\n",
    "def convert_negative_to_positive(value):\n",
    "    try:\n",
    "        num = float(value)\n",
    "        if -3.1415 <= num <= -2.1:\n",
    "            return str(abs(num))  # Convert to positive\n",
    "        else:\n",
    "            return value  # Return the number unchanged if outside the range\n",
    "    except ValueError:\n",
    "        return value  # If it's not a number, return as-is\n",
    "\n",
    "# Open the input file and the output file\n",
    "with open(input_file, 'r') as infile, open(output_file, 'w') as outfile:\n",
    "    for line in infile:\n",
    "        # Skip the lines starting with '#!' (comments or metadata)\n",
    "        if line.startswith('#!'):\n",
    "            outfile.write(line)\n",
    "            continue\n",
    "        \n",
    "        # Split the line into columns\n",
    "        columns = line.split()\n",
    "        \n",
    "        # Check if there are enough columns (we need at least 12 for this task)\n",
    "        if len(columns) >= 12:\n",
    "            # Apply the conversion to columns 9, 10, 11, and 12 (index 8, 9, 10, and 11 in zero-based indexing)\n",
    "            for idx in range(8, 12):\n",
    "                columns[idx] = convert_negative_to_positive(columns[idx])\n",
    "        \n",
    "        # Join the columns back into a line and write to the output file\n",
    "        outfile.write(\"   \".join(columns) + '\\n')\n",
    "\n",
    "print(f\"File processed and saved as {output_file}\")\n"
   ]
  },
  {
   "cell_type": "code",
   "execution_count": null,
   "id": "e20d34f7",
   "metadata": {},
   "outputs": [],
   "source": []
  }
 ],
 "metadata": {
  "kernelspec": {
   "display_name": "Python 3 (ipykernel)",
   "language": "python",
   "name": "python3"
  },
  "language_info": {
   "codemirror_mode": {
    "name": "ipython",
    "version": 3
   },
   "file_extension": ".py",
   "mimetype": "text/x-python",
   "name": "python",
   "nbconvert_exporter": "python",
   "pygments_lexer": "ipython3",
   "version": "3.7.3"
  }
 },
 "nbformat": 4,
 "nbformat_minor": 5
}
