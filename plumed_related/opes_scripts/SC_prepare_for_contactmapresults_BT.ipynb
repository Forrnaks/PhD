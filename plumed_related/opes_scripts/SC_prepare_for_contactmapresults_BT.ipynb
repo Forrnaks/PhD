{
 "cells": [
  {
   "cell_type": "code",
   "execution_count": 18,
   "id": "0b736643",
   "metadata": {},
   "outputs": [
    {
     "name": "stdout",
     "output_type": "stream",
     "text": [
      "F137A: CENTER ATOMS= 2160,2163,2164,2166,2168,2170,2172\n",
      "S266B: CENTER ATOMS= 9351,9354\n"
     ]
    },
    {
     "data": {
      "text/plain": [
       "55"
      ]
     },
     "execution_count": 18,
     "metadata": {},
     "output_type": "execute_result"
    },
    {
     "data": {
      "text/plain": [
       "30"
      ]
     },
     "execution_count": 18,
     "metadata": {},
     "output_type": "execute_result"
    }
   ],
   "source": [
    "import MDAnalysis as mda\n",
    "\n",
    "# Load your molecular dynamics simulation data\n",
    "u = mda.Universe('v+centerilk.pdb', 'v+centerilk.pdb')\n",
    "\n",
    "# Select the residues by their residue IDs and chain IDs (do not forget there is -65 here)\n",
    "F137A = u.select_atoms('(resid 137 and chainID A and not name H* and not backbone) and (index 0:9733)')\n",
    "S266B = u.select_atoms('(resid 266 and chainID B and not name H* and not backbone) and (index 0:9733)')\n",
    "\n",
    "# Combine the residues into a single group\n",
    "residue_group = F137A + S266B\n",
    "\n",
    "# Extract atom numbers\n",
    "F137A_atom_numbers = F137A.atoms.indices + 1  # Convert to 1-based indexing\n",
    "S266B_atom_numbers = S266B.atoms.indices + 1 \n",
    "\n",
    "# Print the atom numbers\n",
    "print(\"F137A: CENTER ATOMS=\",\",\".join(map(str, F137A_atom_numbers)))\n",
    "print(\"S266B: CENTER ATOMS=\",\",\".join(map(str, S266B_atom_numbers)))\n",
    "\n",
    "# Save the atom numbers to \"numbers_SC_contactmapresults.dat\"\n",
    "with open(\"numbers_SC_contactmapresults_BT.dat\", \"w\") as f:\n",
    "    f.write(\"F137A: CENTER ATOMS=\"+\",\".join(map(str, F137A_atom_numbers)) + \"\\n\")\n",
    "    f.write(\"S266B: CENTER ATOMS=\"+\",\".join(map(str, S266B_atom_numbers)) + \"\\n\")"
   ]
  },
  {
   "cell_type": "code",
   "execution_count": 20,
   "id": "ec20e019",
   "metadata": {},
   "outputs": [
    {
     "name": "stdout",
     "output_type": "stream",
     "text": [
      "202A: CENTER ATOMS=2160,2163,2164,2166,2168,2170,2172\n"
     ]
    },
    {
     "data": {
      "text/plain": [
       "54"
      ]
     },
     "execution_count": 20,
     "metadata": {},
     "output_type": "execute_result"
    },
    {
     "name": "stdout",
     "output_type": "stream",
     "text": [
      "331B: CENTER ATOMS=9351,9354\n"
     ]
    },
    {
     "data": {
      "text/plain": [
       "29"
      ]
     },
     "execution_count": 20,
     "metadata": {},
     "output_type": "execute_result"
    },
    {
     "name": "stdout",
     "output_type": "stream",
     "text": [
      "198A: CENTER ATOMS=2093,2096,2099\n"
     ]
    },
    {
     "data": {
      "text/plain": [
       "34"
      ]
     },
     "execution_count": 20,
     "metadata": {},
     "output_type": "execute_result"
    },
    {
     "name": "stdout",
     "output_type": "stream",
     "text": [
      "197A: CENTER ATOMS=2073,2075,2076,2077,2078,2079,2080,2081,2082,2083,2084,2085,2086\n"
     ]
    },
    {
     "data": {
      "text/plain": [
       "84"
      ]
     },
     "execution_count": 20,
     "metadata": {},
     "output_type": "execute_result"
    },
    {
     "name": "stdout",
     "output_type": "stream",
     "text": [
      "323B: CENTER ATOMS=9195,9197,9198,9199,9200,9201,9202,9203,9204,9205,9206,9207,9208\n"
     ]
    },
    {
     "data": {
      "text/plain": [
       "84"
      ]
     },
     "execution_count": 20,
     "metadata": {},
     "output_type": "execute_result"
    },
    {
     "name": "stdout",
     "output_type": "stream",
     "text": [
      "320B: CENTER ATOMS=9142,9145,9147,9148,9149,9150,9151,9152,9153,9154,9155,9156,9157,9158\n"
     ]
    },
    {
     "data": {
      "text/plain": [
       "89"
      ]
     },
     "execution_count": 20,
     "metadata": {},
     "output_type": "execute_result"
    },
    {
     "name": "stdout",
     "output_type": "stream",
     "text": [
      "316B: CENTER ATOMS=9078,9081,9082,9084,9086,9088,9090\n"
     ]
    },
    {
     "data": {
      "text/plain": [
       "54"
      ]
     },
     "execution_count": 20,
     "metadata": {},
     "output_type": "execute_result"
    },
    {
     "name": "stdout",
     "output_type": "stream",
     "text": [
      "280B: CENTER ATOMS=8461,8463,8464,8465,8466,8467,8468,8469\n"
     ]
    },
    {
     "data": {
      "text/plain": [
       "59"
      ]
     },
     "execution_count": 20,
     "metadata": {},
     "output_type": "execute_result"
    },
    {
     "name": "stdout",
     "output_type": "stream",
     "text": [
      "180A: CENTER ATOMS=1793,1796,1799\n"
     ]
    },
    {
     "data": {
      "text/plain": [
       "34"
      ]
     },
     "execution_count": 20,
     "metadata": {},
     "output_type": "execute_result"
    },
    {
     "name": "stdout",
     "output_type": "stream",
     "text": [
      "278B: CENTER ATOMS=8422,8424,8425,8426,8427,8428,8429,8430\n"
     ]
    },
    {
     "data": {
      "text/plain": [
       "59"
      ]
     },
     "execution_count": 20,
     "metadata": {},
     "output_type": "execute_result"
    },
    {
     "name": "stdout",
     "output_type": "stream",
     "text": [
      "273B: CENTER ATOMS=8321,8324,8325,8327,8329,8330,8332,8334\n"
     ]
    },
    {
     "data": {
      "text/plain": [
       "59"
      ]
     },
     "execution_count": 20,
     "metadata": {},
     "output_type": "execute_result"
    },
    {
     "name": "stdout",
     "output_type": "stream",
     "text": [
      "175B: CENTER ATOMS=6586,6589,6590,6592,6594,6595,6597,6599\n"
     ]
    },
    {
     "data": {
      "text/plain": [
       "59"
      ]
     },
     "execution_count": 20,
     "metadata": {},
     "output_type": "execute_result"
    },
    {
     "name": "stdout",
     "output_type": "stream",
     "text": [
      "284B: CENTER ATOMS=8520,8523,8524,8526,8528,8530,8532\n"
     ]
    },
    {
     "data": {
      "text/plain": [
       "54"
      ]
     },
     "execution_count": 20,
     "metadata": {},
     "output_type": "execute_result"
    },
    {
     "name": "stdout",
     "output_type": "stream",
     "text": [
      "286A: CENTER ATOMS=3680,3683,3684,3685\n"
     ]
    },
    {
     "data": {
      "text/plain": [
       "39"
      ]
     },
     "execution_count": 20,
     "metadata": {},
     "output_type": "execute_result"
    },
    {
     "name": "stdout",
     "output_type": "stream",
     "text": [
      "273A: CENTER ATOMS=3454,3457,3458,3460,3462,3463,3465,3467\n"
     ]
    },
    {
     "data": {
      "text/plain": [
       "59"
      ]
     },
     "execution_count": 20,
     "metadata": {},
     "output_type": "execute_result"
    },
    {
     "name": "stdout",
     "output_type": "stream",
     "text": [
      "318B: CENTER ATOMS=9110,9111,9112\n"
     ]
    },
    {
     "data": {
      "text/plain": [
       "34"
      ]
     },
     "execution_count": 20,
     "metadata": {},
     "output_type": "execute_result"
    },
    {
     "name": "stdout",
     "output_type": "stream",
     "text": [
      "211B: CENTER ATOMS=7171,7174,7176,7177,7178,7179,7180,7181,7182,7183,7184,7185,7186,7187\n"
     ]
    },
    {
     "data": {
      "text/plain": [
       "89"
      ]
     },
     "execution_count": 20,
     "metadata": {},
     "output_type": "execute_result"
    },
    {
     "name": "stdout",
     "output_type": "stream",
     "text": [
      "326B: CENTER ATOMS=9237,9240,9241,9243,9245,9246,9248,9250,9252,9254\n"
     ]
    },
    {
     "data": {
      "text/plain": [
       "69"
      ]
     },
     "execution_count": 20,
     "metadata": {},
     "output_type": "execute_result"
    },
    {
     "name": "stdout",
     "output_type": "stream",
     "text": [
      "237B: CENTER ATOMS=7660,7663,7666,7669,7671,7672,7673,7674,7675,7676,7677\n"
     ]
    },
    {
     "data": {
      "text/plain": [
       "74"
      ]
     },
     "execution_count": 20,
     "metadata": {},
     "output_type": "execute_result"
    },
    {
     "name": "stdout",
     "output_type": "stream",
     "text": [
      "223B: CENTER ATOMS=7381,7384,7387,7388,7389\n"
     ]
    },
    {
     "data": {
      "text/plain": [
       "44"
      ]
     },
     "execution_count": 20,
     "metadata": {},
     "output_type": "execute_result"
    },
    {
     "name": "stdout",
     "output_type": "stream",
     "text": [
      "224B: CENTER ATOMS=7396,7399,7402,7405,7408,7409,7410\n"
     ]
    },
    {
     "data": {
      "text/plain": [
       "54"
      ]
     },
     "execution_count": 20,
     "metadata": {},
     "output_type": "execute_result"
    },
    {
     "name": "stdout",
     "output_type": "stream",
     "text": [
      "141B: CENTER ATOMS=6086,6089,6090,6091,6092,6093\n"
     ]
    },
    {
     "data": {
      "text/plain": [
       "49"
      ]
     },
     "execution_count": 20,
     "metadata": {},
     "output_type": "execute_result"
    },
    {
     "name": "stdout",
     "output_type": "stream",
     "text": [
      "289B: CENTER ATOMS=8599,8600,8601\n"
     ]
    },
    {
     "data": {
      "text/plain": [
       "34"
      ]
     },
     "execution_count": 20,
     "metadata": {},
     "output_type": "execute_result"
    },
    {
     "name": "stdout",
     "output_type": "stream",
     "text": [
      "288B: CENTER ATOMS=8579,8581,8582,8583,8584,8585,8586,8587,8588,8589,8590,8591,8592\n"
     ]
    },
    {
     "data": {
      "text/plain": [
       "84"
      ]
     },
     "execution_count": 20,
     "metadata": {},
     "output_type": "execute_result"
    },
    {
     "name": "stdout",
     "output_type": "stream",
     "text": [
      "293B: CENTER ATOMS=8639,8640,8641\n"
     ]
    },
    {
     "data": {
      "text/plain": [
       "34"
      ]
     },
     "execution_count": 20,
     "metadata": {},
     "output_type": "execute_result"
    },
    {
     "name": "stdout",
     "output_type": "stream",
     "text": [
      "145B: CENTER ATOMS=6139,6142\n"
     ]
    },
    {
     "data": {
      "text/plain": [
       "29"
      ]
     },
     "execution_count": 20,
     "metadata": {},
     "output_type": "execute_result"
    }
   ],
   "source": [
    "import MDAnalysis as mda\n",
    "\n",
    "# Load your molecular dynamics simulation data\n",
    "u = mda.Universe('v+centerilk.pdb', 'v+centerilk.pdb')\n",
    "\n",
    "# Define residue and chain pairs to be selected\n",
    "residues_chain_pairs = [\n",
    "    (202, 'A'), (331, 'B'), (198, 'A'), (197, 'A'), (323, 'B'),\n",
    "    (320, 'B'), (316, 'B'), (280, 'B'), (180, 'A'), (278, 'B'),\n",
    "    (273, 'B'), (175, 'B'), (284, 'B'), (286, 'A'), (273, 'A'),\n",
    "    (318, 'B'), (211, 'B'), (326, 'B'), (237, 'B'), (223, 'B'),\n",
    "    (224, 'B'), (141, 'B'), (289, 'B'), (288, 'B'), (293, 'B'),\n",
    "    (145, 'B')\n",
    "]\n",
    "\n",
    "# Initialize dictionary to store atom numbers for each residue\n",
    "residue_atom_numbers = {}\n",
    "\n",
    "# Select and store atom numbers for each residue\n",
    "for resid, chain in residues_chain_pairs:\n",
    "    selection = f'(resid {resid-65} and chainID {chain} and not name H* and not backbone) and (index 0:9733)'\n",
    "    atoms = u.select_atoms(selection)\n",
    "    atom_numbers = atoms.atoms.indices + 1  # Convert to 1-based indexing\n",
    "    residue_atom_numbers[f'{resid}{chain}'] = atom_numbers\n",
    "\n",
    "# Print and save the atom numbers to a file\n",
    "with open(\"numbers_SC_contactmapresults_BT.dat\", \"w\") as f:\n",
    "    for key, atom_numbers in residue_atom_numbers.items():\n",
    "        atom_numbers_str = \",\".join(map(str, atom_numbers))\n",
    "        print(f\"{key}: CENTER ATOMS={atom_numbers_str}\")\n",
    "        f.write(f\"{key}: CENTER ATOMS={atom_numbers_str}\\n\")\n"
   ]
  },
  {
   "cell_type": "code",
   "execution_count": null,
   "id": "49b7c6e9",
   "metadata": {},
   "outputs": [],
   "source": []
  }
 ],
 "metadata": {
  "kernelspec": {
   "display_name": "Python 3 (ipykernel)",
   "language": "python",
   "name": "python3"
  },
  "language_info": {
   "codemirror_mode": {
    "name": "ipython",
    "version": 3
   },
   "file_extension": ".py",
   "mimetype": "text/x-python",
   "name": "python",
   "nbconvert_exporter": "python",
   "pygments_lexer": "ipython3",
   "version": "3.7.3"
  }
 },
 "nbformat": 4,
 "nbformat_minor": 5
}
