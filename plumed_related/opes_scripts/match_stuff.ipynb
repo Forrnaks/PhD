{
 "cells": [
  {
   "cell_type": "code",
   "execution_count": 1,
   "metadata": {},
   "outputs": [],
   "source": [
    "with open('./morph4_afternewalignment2.pdb', 'r') as f:\n",
    "    lines = f.readlines()"
   ]
  },
  {
   "cell_type": "code",
   "execution_count": 2,
   "metadata": {},
   "outputs": [],
   "source": [
    "new_lines = []\n",
    "\n",
    "atom_ids = []\n",
    "\n",
    "end_mdl = 0\n",
    "atom_line_count = -1\n",
    "\n",
    "for line in lines:\n",
    "    if line.startswith('ATOM'):\n",
    "        atom_line_count += 1\n",
    "    if end_mdl == 1:\n",
    "        if line.startswith('ATOM'):\n",
    "            # print(atom_line_count)\n",
    "            new_line = line[0:4] + atom_ids[atom_line_count] + line[11:]\n",
    "            new_lines.append(new_line)\n",
    "        else:\n",
    "            new_lines.append(line)\n",
    "    if end_mdl == 0:\n",
    "        if line.startswith('ATOM'):\n",
    "            atom_id = line[4:11]\n",
    "            rest_of_line = line[11:]\n",
    "            atom_ids.append(atom_id)\n",
    "            new_lines.append(line)\n",
    "        else:\n",
    "            new_lines.append(line)\n",
    "    if line.startswith('ENDMDL'):\n",
    "        atom_line_count = -1\n",
    "    if line.startswith('ENDMDL') and end_mdl == 0:\n",
    "        end_mdl += 1"
   ]
  },
  {
   "cell_type": "code",
   "execution_count": 3,
   "metadata": {},
   "outputs": [],
   "source": [
    "with open('./morph5_e.pdb', 'w') as f:\n",
    "    for line in new_lines:\n",
    "        f.write(line)"
   ]
  }
 ],
 "metadata": {
  "kernelspec": {
   "display_name": "Python 3 (ipykernel)",
   "language": "python",
   "name": "python3"
  },
  "language_info": {
   "codemirror_mode": {
    "name": "ipython",
    "version": 3
   },
   "file_extension": ".py",
   "mimetype": "text/x-python",
   "name": "python",
   "nbconvert_exporter": "python",
   "pygments_lexer": "ipython3",
   "version": "3.7.3"
  }
 },
 "nbformat": 4,
 "nbformat_minor": 2
}
