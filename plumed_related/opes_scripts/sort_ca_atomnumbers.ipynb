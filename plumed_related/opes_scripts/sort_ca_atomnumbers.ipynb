{
 "cells": [
  {
   "cell_type": "code",
   "execution_count": 5,
   "id": "eca17ebb",
   "metadata": {},
   "outputs": [],
   "source": [
    "# Read numbers from the file\n",
    "with open(\"v+protonly_ca_atomnumbers.txt\", \"r\") as f:\n",
    "    lines = f.readlines()\n",
    "\n",
    "# Write numbers to a new file in a single column with right alignment\n",
    "with open(\"v+protonly_ca_atomnumbers_sorted.txt\", \"w\") as f:\n",
    "    max_length = max(len(num.strip()) for line in lines for num in line.split())\n",
    "    for line in lines:\n",
    "        # Split the line into individual numbers\n",
    "        numbers = line.split()\n",
    "        # Write each number to the file with right alignment\n",
    "        for number in numbers:\n",
    "            f.write(f\"{number.rjust(max_length)}\\n\")\n"
   ]
  },
  {
   "cell_type": "code",
   "execution_count": null,
   "id": "77bc95ad",
   "metadata": {},
   "outputs": [],
   "source": []
  }
 ],
 "metadata": {
  "kernelspec": {
   "display_name": "Python 3 (ipykernel)",
   "language": "python",
   "name": "python3"
  },
  "language_info": {
   "codemirror_mode": {
    "name": "ipython",
    "version": 3
   },
   "file_extension": ".py",
   "mimetype": "text/x-python",
   "name": "python",
   "nbconvert_exporter": "python",
   "pygments_lexer": "ipython3",
   "version": "3.7.3"
  }
 },
 "nbformat": 4,
 "nbformat_minor": 5
}
