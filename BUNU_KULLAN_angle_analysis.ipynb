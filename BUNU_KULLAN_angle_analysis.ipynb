{
 "cells": [
  {
   "cell_type": "code",
   "execution_count": 1,
   "id": "2c6aa912",
   "metadata": {},
   "outputs": [
    {
     "name": "stderr",
     "output_type": "stream",
     "text": [
      "/home/user1/anaconda3/lib/python3.7/site-packages/MDAnalysis/topology/guessers.py:146: UserWarning: Failed to guess the mass for the following atom types: Mc\n",
      "  warnings.warn(\"Failed to guess the mass for the following atom types: {}\".format(atom_type))\n",
      "/home/user1/anaconda3/lib/python3.7/site-packages/MDAnalysis/topology/PDBParser.py:334: UserWarning: Unknown element  found for some atoms. These have been given an empty element record. If needed they can be guessed using MDAnalysis.topology.guessers.\n",
      "  warnings.warn(wmsg)\n",
      "/home/user1/anaconda3/lib/python3.7/site-packages/MDAnalysis/topology/guessers.py:146: UserWarning: Failed to guess the mass for the following atom types: \n",
      "  warnings.warn(\"Failed to guess the mass for the following atom types: {}\".format(atom_type))\n"
     ]
    },
    {
     "name": "stdout",
     "output_type": "stream",
     "text": [
      "Vector magnitude: 14.098145451752968\n",
      "Vector direction: [-0.88632025  0.31324009  0.34105288]\n",
      "Vector magnitude: 13.796500958105588\n",
      "Vector direction: [-0.86993835  0.15640868  0.46770032]\n",
      "Angle between vector and vector2: 11.607766500782173 degrees\n",
      "Trajectory analysis finished.\n"
     ]
    }
   ],
   "source": [
    "import MDAnalysis as mda\n",
    "import numpy as np\n",
    "\n",
    "# Load PDB file\n",
    "Path = '/media/user1/3f01b061-6b30-485c-8565-c41ef5a79485/8tb/trek2/trek2brohawn-alignment/new-trek2brohawn-mutatetrek1/trek2up/s331phosp-trek2up/compel/2e/hlrndone'\n",
    "u = mda.Universe(Path + '/5/reseqalignedtov+centerilk.pdb')\n",
    "u2 = mda.Universe(Path + '/5/v+centerilk.pdb' , Path + '/5/v+center.xtc')\n",
    "\n",
    "# Define atom selections\n",
    "sel1 = u.select_atoms('index 4187 ') #Y250Ca 4188 in pdb.\n",
    "sel2 = u.select_atoms('name CA and (index 4185:4540)') #Y250-K268 4186-4541\n",
    "sel3 = u2.select_atoms('index 4187 ') #Y250Ca 3800 in pdb\n",
    "sel4 = u2.select_atoms('name CA and (index 4185:4540)') #Y250-K268 3798-4116\n",
    "\n",
    "# Calculate center of geometry of C-alpha atoms\n",
    "c_alpha = sel2.select_atoms('name CA')\n",
    "c_alpha_center = c_alpha.center_of_geometry()\n",
    "\n",
    "c_alpha2 = sel4.select_atoms('name CA')\n",
    "c_alpha_center2 = c_alpha2.center_of_geometry()\n",
    "\n",
    "# Calculate vector between selections\n",
    "vector = c_alpha_center - sel1.positions[0]\n",
    "vector2 = c_alpha_center2 - sel3.positions[0]\n",
    "\n",
    "# Print vector magnitude and direction\n",
    "print(f\"Vector magnitude: {np.linalg.norm(vector)}\")\n",
    "print(f\"Vector direction: {vector / np.linalg.norm(vector)}\")\n",
    "\n",
    "print(f\"Vector magnitude: {np.linalg.norm(vector2)}\")\n",
    "print(f\"Vector direction: {vector2 / np.linalg.norm(vector2)}\")\n",
    "\n",
    "\n",
    "# Calculate angle between vector and vector2\n",
    "angle = np.arccos(np.dot(vector, vector2) / (np.linalg.norm(vector) * np.linalg.norm(vector2)))\n",
    "\n",
    "# Print angle in degrees\n",
    "print(f\"Angle between vector and vector2: {np.degrees(angle)} degrees\")\n",
    "\n",
    "# Open output file\n",
    "with open(Path + '/5/angles.xvg', 'w') as f:\n",
    "    f.write('# time (ps)\\tangle (degrees)\\n')\n",
    "\n",
    "    # Iterate over frames in the trajectory\n",
    "    for ts in u2.trajectory:\n",
    "\n",
    "        # Calculate center of geometry of C-alpha atoms\n",
    "        c_alpha2 = sel4.select_atoms('name CA')\n",
    "        c_alpha_center2 = c_alpha2.center_of_geometry()\n",
    "\n",
    "        # Calculate vector between selections\n",
    "        vector2 = c_alpha_center2 - sel3.positions[0]\n",
    "\n",
    "        # Calculate angle between vector and xz plane\n",
    "        angle = np.arccos(np.dot(vector, vector2) / (np.linalg.norm(vector) * np.linalg.norm(vector2)))\n",
    "\n",
    "        # Write angle and time to output file\n",
    "        f.write(f\"{ts.time}\\t{np.degrees(angle)}\\n\")\n",
    "    \n",
    "print(\"Trajectory analysis finished.\")"
   ]
  },
  {
   "cell_type": "code",
   "execution_count": null,
   "id": "c0bb2148",
   "metadata": {},
   "outputs": [],
   "source": []
  }
 ],
 "metadata": {
  "kernelspec": {
   "display_name": "Python 3 (ipykernel)",
   "language": "python",
   "name": "python3"
  },
  "language_info": {
   "codemirror_mode": {
    "name": "ipython",
    "version": 3
   },
   "file_extension": ".py",
   "mimetype": "text/x-python",
   "name": "python",
   "nbconvert_exporter": "python",
   "pygments_lexer": "ipython3",
   "version": "3.7.3"
  }
 },
 "nbformat": 4,
 "nbformat_minor": 5
}
