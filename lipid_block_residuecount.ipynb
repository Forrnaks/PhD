{
 "cells": [
  {
   "cell_type": "code",
   "execution_count": 1,
   "id": "9d52b682",
   "metadata": {},
   "outputs": [
    {
     "name": "stderr",
     "output_type": "stream",
     "text": [
      "/home/user1/anaconda3/lib/python3.7/site-packages/MDAnalysis/topology/PDBParser.py:334: UserWarning: Unknown element  found for some atoms. These have been given an empty element record. If needed they can be guessed using MDAnalysis.topology.guessers.\n",
      "  warnings.warn(wmsg)\n",
      "/home/user1/anaconda3/lib/python3.7/site-packages/MDAnalysis/topology/guessers.py:146: UserWarning: Failed to guess the mass for the following atom types: \n",
      "  warnings.warn(\"Failed to guess the mass for the following atom types: {}\".format(atom_type))\n"
     ]
    },
    {
     "name": "stdout",
     "output_type": "stream",
     "text": [
      "Atom IDs, names, and residue numbers of POPC atoms inside the cylinder:\n",
      "ID: 18759  Name: C30  Residue: 462\n",
      "ID: 15663  Name: N4  Residue: 403\n",
      "ID: 18737  Name: P8  Residue: 462\n",
      "ID: 18967  Name: C30  Residue: 466\n",
      "ID: 18749  Name: C20  Residue: 462\n",
      "ID: 18747  Name: C18  Residue: 462\n",
      "ID: 18781  Name: C50  Residue: 462\n"
     ]
    }
   ],
   "source": [
    "import numpy as np\n",
    "import MDAnalysis as mda\n",
    "\n",
    "# Load the trajectory and topology files\n",
    "u = mda.Universe('v+centerilk.pdb', 'v+center.xtc')\n",
    "\n",
    "# Define the atom selection for center of mass calculation\n",
    "atom_numbers = [1670, 3607, 6537, 8474]\n",
    "atoms = u.atoms[atom_numbers]\n",
    "\n",
    "# Define the dimensions of the cylinder\n",
    "radius = 8  # in angstrom\n",
    "height = 40  # in angstrom\n",
    "cylinder_center_offset = -10  # in angstrom\n",
    "\n",
    "# Define the atom selection for cylinder occupancy analysis\n",
    "popc_selection = 'resname POPC* and name O14 O33 N4 C36 C38 C40 C42 C44 C46 C48 C50 C18 C20 C22 C24 C26 C28 C30 P8 and (index 9735 to 25074)'\n",
    "popc_atoms = u.select_atoms(popc_selection)\n",
    "\n",
    "# Calculate center of mass for each frame\n",
    "center_of_mass = []\n",
    "inside_atoms = set()\n",
    "cylinder_center_z = []  # Store the z-coordinate of the cylinder center\n",
    "\n",
    "for ts in u.trajectory[::10]:\n",
    "    # Calculate center of mass for the selected atoms\n",
    "    com = atoms.center_of_mass()\n",
    "    center_of_mass.append(com)\n",
    "\n",
    "    # Calculate the center of the cylinder based on the center of mass\n",
    "    cylinder_center = com - np.array([0, 0, cylinder_center_offset])\n",
    "    \n",
    "    # Store the z-coordinate of the cylinder center\n",
    "    cylinder_center_z.append(cylinder_center[2])\n",
    "\n",
    "\n",
    "    # Check if POPC atoms are inside the cylinder\n",
    "    for atom in popc_atoms:\n",
    "        atom_pos = atom.position\n",
    "        dist_xy = np.linalg.norm(atom_pos[:2] - cylinder_center[:2])  # Distance in the xy-plane\n",
    "        dist_z = abs(atom_pos[2] - cylinder_center[2])  # Distance along the z-axis\n",
    "\n",
    "        if dist_xy <= radius and dist_z <= height / 2:\n",
    "            inside_atoms.add(atom.index)\n",
    "\n",
    "\n",
    "# Get the names of the atoms in atom_numbers\n",
    "atom_names = [u.atoms[atom_id].name for atom_id in atom_numbers]\n",
    "\n",
    "# Write z-coordinate results to \"xxx.xvg\" file\n",
    "with open('xxx5_residuecount.xvg', 'w') as f:\n",
    "    # Write the header with column names\n",
    "    f.write(\"Time Center \")\n",
    "    for atom_id in inside_atoms:\n",
    "        atom = u.atoms[atom_id]\n",
    "        f.write(f\"{atom.name}_{atom.resid} \")\n",
    "    f.write(\"\\n\")\n",
    "\n",
    "    for ts, com, cylinder_z in zip(u.trajectory[::10], center_of_mass, cylinder_center_z):\n",
    "        # Calculate the center of the cylinder based on the center of mass\n",
    "        cylinder_center = com - np.array([0, 0, cylinder_center_offset])\n",
    "\n",
    "        # Write the time in the first column\n",
    "        f.write(f\"{ts.time} {cylinder_z:.2f} \")\n",
    "\n",
    "        # Check if POPC atoms are inside the cylinder\n",
    "        for atom_id in inside_atoms:\n",
    "            atom = u.atoms[atom_id]\n",
    "            atom_pos = atom.position\n",
    "            dist_xy = np.linalg.norm(atom_pos[:2] - cylinder_center[:2])  # Distance in the xy-plane\n",
    "            dist_z = abs(atom_pos[2] - cylinder_center[2])  # Distance along the z-axis\n",
    "\n",
    "            if dist_xy <= radius and dist_z <= height / 2:\n",
    "                # Write the z-coordinate of the atom if it is inside the cylinder\n",
    "                f.write(f\"{100 + atom_pos[2] - cylinder_z:.2f} \")\n",
    "            else:\n",
    "                # Write 0.00 if the atom is outside the cylinder\n",
    "                f.write(\"0.00 \")\n",
    "\n",
    "        f.write(\"\\n\")\n",
    "\n",
    "# Print the atom IDs, names, and residue numbers of POPC atoms that were inside the cylinder during the trajectory\n",
    "print(\"Atom IDs, names, and residue numbers of POPC atoms inside the cylinder:\")\n",
    "for atom_id in inside_atoms:\n",
    "    atom = u.atoms[atom_id]\n",
    "    residue = atom.resid\n",
    "    print(f\"ID: {atom_id}  Name: {atom.name}  Residue: {residue}\")\n"
   ]
  },
  {
   "cell_type": "code",
   "execution_count": 2,
   "id": "9e938eae",
   "metadata": {},
   "outputs": [
    {
     "name": "stdout",
     "output_type": "stream",
     "text": [
      "Second column removed. Modified file saved as: xxx5_residuecount_modified.xvg\n"
     ]
    }
   ],
   "source": [
    "# Define the input and output file names\n",
    "input_file = 'xxx5_residuecount.xvg'\n",
    "output_file = 'xxx5_residuecount_modified.xvg'\n",
    "\n",
    "# Read the input file, skip the second column, and write the modified content to the output file\n",
    "with open(input_file, 'r') as infile, open(output_file, 'w') as outfile:\n",
    "    for line in infile:\n",
    "        # Split the line into columns\n",
    "        columns = line.split()\n",
    "        # Skip the second column and write the remaining columns to the output file\n",
    "        outfile.write(columns[0] + \" \" + \" \".join(columns[2:]) + \"\\n\")\n",
    "\n",
    "print(\"Second column removed. Modified file saved as:\", output_file)\n"
   ]
  },
  {
   "cell_type": "code",
   "execution_count": 8,
   "id": "eebfd994",
   "metadata": {},
   "outputs": [
    {
     "name": "stdout",
     "output_type": "stream",
     "text": [
      "Extracted residue numbers: ['462', '403', '462', '466', '462', '462', '462']\n"
     ]
    },
    {
     "data": {
      "image/png": "[encoded data removed]",
      "text/plain": [
       "<Figure size 432x288 with 1 Axes>"
      ]
     },
     "metadata": {
      "needs_background": "light"
     },
     "output_type": "display_data"
    }
   ],
   "source": [
    "import numpy as np\n",
    "import matplotlib.pyplot as plt\n",
    "\n",
    "# Read the file to extract residue names from the header\n",
    "with open('xxx5_residuecount_modified.xvg', 'r') as file:\n",
    "    first_line = file.readline().split()[1:]  # Assuming the header is in the first line\n",
    "    residue_names = [name.strip() for name in first_line if name.strip() != 'Time']\n",
    "\n",
    "# Extract residue numbers from residue names\n",
    "residue_numbers = [name.split('_')[-1] for name in residue_names]\n",
    "\n",
    "print(\"Extracted residue numbers:\", residue_numbers)\n",
    "\n",
    "# Read data from the file\n",
    "data = np.genfromtxt('xxx5_residuecount_modified.xvg', skip_header=1)  # Skip the first line\n",
    "\n",
    "# Extract time and residue data\n",
    "time = data[:, 0]\n",
    "residue_data = data[:, 1:]  # Exclude the second column\n",
    "\n",
    "# Find unique residue numbers with non-zero values for each time frame\n",
    "unique_counts = []\n",
    "for frame in residue_data:\n",
    "    non_zero_residues = [residue_numbers[i] for i, val in enumerate(frame) if val != 0.0]\n",
    "    unique_counts.append(len(set(non_zero_residues)))\n",
    "\n",
    "# Plot the results\n",
    "plt.plot(time, unique_counts)\n",
    "plt.xlabel('Time')\n",
    "plt.ylabel('Number of Unique Residue Numbers')\n",
    "plt.title('Number of Unique Residue Numbers with Non-zero Values Over Time')\n",
    "\n",
    "# Remove grid\n",
    "plt.grid(False)\n",
    "\n",
    "# Set y-axis ticks to integers\n",
    "plt.yticks(range(max(unique_counts) + 1))\n",
    "\n",
    "plt.savefig('unique_residue_numbers_over_time.pdf')\n",
    "\n",
    "plt.show()\n"
   ]
  },
  {
   "cell_type": "code",
   "execution_count": null,
   "id": "bada1615",
   "metadata": {},
   "outputs": [],
   "source": []
  }
 ],
 "metadata": {
  "kernelspec": {
   "display_name": "Python 3 (ipykernel)",
   "language": "python",
   "name": "python3"
  },
  "language_info": {
   "codemirror_mode": {
    "name": "ipython",
    "version": 3
   },
   "file_extension": ".py",
   "mimetype": "text/x-python",
   "name": "python",
   "nbconvert_exporter": "python",
   "pygments_lexer": "ipython3",
   "version": "3.7.3"
  }
 },
 "nbformat": 4,
 "nbformat_minor": 5
}
