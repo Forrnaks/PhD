{
 "cells": [
  {
   "cell_type": "code",
   "execution_count": 9,
   "id": "d4072ee4",
   "metadata": {},
   "outputs": [
    {
     "name": "stdout",
     "output_type": "stream",
     "text": [
      "Results written to hbond_result.xvg\n"
     ]
    }
   ],
   "source": [
    "import numpy as np\n",
    "import MDAnalysis\n",
    "from MDAnalysis.analysis.hydrogenbonds.hbond_analysis import HydrogenBondAnalysis as HBA\n",
    "\n",
    "topol = \"topolextend.tpr\"\n",
    "trajectory = \"v+center10ns.xtc\"\n",
    "\n",
    "u = MDAnalysis.Universe(topol, trajectory)\n",
    "\n",
    "hbonds = HBA(universe=u, donors_sel='name O* and (index 0-9733)', hydrogens_sel='name H* and (index 0-9733)', acceptors_sel='name O* and (index 0-9733)', d_a_cutoff=3, d_h_a_angle_cutoff=150, update_selections=True)\n",
    "\n",
    "# Open the output file\n",
    "with open(\"hbond_result.xvg\", \"w\") as f:\n",
    "    # Write header\n",
    "    f.write(\"# Frame\\tDonor\\tHydrogen\\tAcceptor\\tDistance\\tAngle\\n\")\n",
    "\n",
    "    # Run the analysis\n",
    "    hbonds.run()\n",
    "\n",
    "    # Access the results and write them to the file\n",
    "    for result in hbonds.results['hbonds']:\n",
    "        frame, donor, hydrogen, acceptor, distance, angle = result\n",
    "        f.write(f\"{frame}\\t{donor}\\t{hydrogen}\\t{acceptor}\\t{distance}\\t{angle}\\n\")\n",
    "\n",
    "print(\"Results written to hbond_result.xvg\")\n"
   ]
  },
  {
   "cell_type": "code",
   "execution_count": null,
   "id": "bf67212a",
   "metadata": {},
   "outputs": [],
   "source": []
  }
 ],
 "metadata": {
  "kernelspec": {
   "display_name": "Python 3 (ipykernel)",
   "language": "python",
   "name": "python3"
  },
  "language_info": {
   "codemirror_mode": {
    "name": "ipython",
    "version": 3
   },
   "file_extension": ".py",
   "mimetype": "text/x-python",
   "name": "python",
   "nbconvert_exporter": "python",
   "pygments_lexer": "ipython3",
   "version": "3.7.3"
  }
 },
 "nbformat": 4,
 "nbformat_minor": 5
}
