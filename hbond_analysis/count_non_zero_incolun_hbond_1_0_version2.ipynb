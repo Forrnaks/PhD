{
 "cells": [
  {
   "cell_type": "code",
   "execution_count": 1,
   "id": "641dcc03",
   "metadata": {},
   "outputs": [],
   "source": [
    "import numpy as np"
   ]
  },
  {
   "cell_type": "code",
   "execution_count": 2,
   "id": "5c90051a",
   "metadata": {},
   "outputs": [
    {
     "name": "stdout",
     "output_type": "stream",
     "text": [
      "24650\n",
      "22169\n",
      "24744\n",
      "1842\n"
     ]
    }
   ],
   "source": [
    "sample1 = \"../../4e/5/hbond_y175_t278_v+_A.xvg\"\n",
    "sample2 = \"../../4e/5/hbond_y175_t278_v+_B.xvg\"\n",
    "sample3 = \"../../4e/5/hbond_y175_t278_v-_A.xvg\"\n",
    "sample4 = \"../../4e/5/hbond_y175_t278_v-_B.xvg\"\n",
    "\n",
    "#once for loop yaptim 4 sample oldugu icin\n",
    "#sonra file_dataya tek tek yuklemesini istedim sirayla. x for loopta adi. dtype=float yapma sebebim 1. 0. seklinde gosteriyor bize o lazim. comments koyunca bunlarla baslayan butun satirlari siliyor. usecols =1 de 2.columnu kullanmami sagliyor. usecols = (1,3) yapsaydim 2 ve 4.satiri kullanirdi.\n",
    "#sonra np.set_printoptions supress true yapinca float pointten sonrasini gostermiyor eklemiyor.\n",
    "# sonra result kismina count_nonzero yu kullandim ve onu axis=0 yaptim cunku columndakileri hesaplamak istiyorum. Bu 0 olmayan her seyi sayiyor command.\n",
    "#25000 frame var burda da sonuclar cikiyor 24378 tane de gormusum mesela.\n",
    "\n",
    "for x in sample1, sample2, sample3, sample4:\n",
    "    file_data = np.loadtxt (x , dtype=float , comments=['#' , '$' , '@'], usecols = 1 )\n",
    "    np.set_printoptions(suppress=True)\n",
    "    result = np.count_nonzero(file_data, axis=0)\n",
    "    print(result)\n",
    "#file_data = np.loadtxt (\"abcde.xvg\", dtype=int, comments=['#', '$', '@'], usecols=(0,1,3,5,7,9)) #skiprows=(5,18,22) falan gibi bir option da var."
   ]
  },
  {
   "cell_type": "code",
   "execution_count": null,
   "id": "784abc59",
   "metadata": {},
   "outputs": [],
   "source": []
  }
 ],
 "metadata": {
  "kernelspec": {
   "display_name": "Python 3 (ipykernel)",
   "language": "python",
   "name": "python3"
  },
  "language_info": {
   "codemirror_mode": {
    "name": "ipython",
    "version": 3
   },
   "file_extension": ".py",
   "mimetype": "text/x-python",
   "name": "python",
   "nbconvert_exporter": "python",
   "pygments_lexer": "ipython3",
   "version": "3.7.3"
  }
 },
 "nbformat": 4,
 "nbformat_minor": 5
}
